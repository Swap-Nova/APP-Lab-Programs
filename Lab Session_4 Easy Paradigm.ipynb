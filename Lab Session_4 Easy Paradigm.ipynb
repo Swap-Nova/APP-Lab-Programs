{
 "cells": [
  {
   "cell_type": "markdown",
   "metadata": {},
   "source": [
    "1. Write a Python class named SRMIST with six attributes school, dept1, dept2, dept2 and dept3. \n",
    "Add a new attribute specialization and display the entire attribute and their values of the said class. \n",
    "Now remove the dept1 and dept2 attribute and display the entire attribute with values."
   ]
  },
  {
   "cell_type": "code",
   "execution_count": 1,
   "metadata": {},
   "outputs": [
    {
     "name": "stdout",
     "output_type": "stream",
     "text": [
      "Original attributes and their values of the Student class:\n",
      "school -> SRMIST\n",
      "dept1 -> Computer Science\n",
      "dept2 -> Artificial Intelligence\n",
      "dept3 -> Mechanical Engineering\n",
      "dept4 -> Biotech\n",
      "\n",
      "After adding the specialization, attributes and their values with the said class:\n",
      "school -> SRMIST\n",
      "dept1 -> Computer Science\n",
      "dept2 -> Artificial Intelligence\n",
      "dept3 -> Mechanical Engineering\n",
      "dept4 -> Biotech\n",
      "specialization -> Blockchain\n",
      "\n",
      "After removing the dept1,dept2 attributes and their values from the said class:\n",
      "school -> SRMIST\n",
      "dept3 -> Mechanical Engineering\n",
      "dept4 -> Biotech\n",
      "specialization -> Blockchain\n"
     ]
    }
   ],
   "source": [
    "class SRMIST:\n",
    "    school = 'SRMIST'\n",
    "    dept1 = 'Computer Science'\n",
    "    dept2 = 'Artificial Intelligence'\n",
    "    dept3 = 'Mechanical Engineering'\n",
    "    dept4 = 'Biotech'\n",
    "print(\"Original attributes and their values of the Student class:\")\n",
    "for attr, value in SRMIST.__dict__.items():\n",
    "    if not attr.startswith('_'):\n",
    "        print(f'{attr} -> {value}')\n",
    "print(\"\\nAfter adding the specialization, attributes and their values with the said class:\")\n",
    "SRMIST.specialization  = 'Blockchain'\n",
    "for attr, value in SRMIST.__dict__.items():\n",
    "    if not attr.startswith('_'):\n",
    "        print(f'{attr} -> {value}')\n",
    "print(\"\\nAfter removing the dept1,dept2 attributes and their values from the said class:\")\n",
    "del SRMIST.dept1\n",
    "del SRMIST.dept2\n",
    "#delattr(Student, 'student_name')\n",
    "for attr, value in SRMIST.__dict__.items():\n",
    "    if not attr.startswith('_'):\n",
    "        print(f'{attr} -> {value}')\n"
   ]
  },
  {
   "cell_type": "markdown",
   "metadata": {},
   "source": [
    "2. Write a Python program to crate four empty classes, CTECH, CINTEL, NWC and DSBS. \n",
    "Now create some instances and check whether they are instances of the said classes or not. \n",
    "Also, check whether the said classes are subclasses of the built-in object class or not."
   ]
  },
  {
   "cell_type": "code",
   "execution_count": 2,
   "metadata": {},
   "outputs": [
    {
     "name": "stdout",
     "output_type": "stream",
     "text": [
      "True\n",
      "False\n",
      "False\n",
      "False\n",
      "True\n",
      "False\n",
      "False\n",
      "False\n",
      "\n",
      "Check whether the said classes are subclasses of the built-in object class or not.\n",
      "True\n",
      "True\n",
      "True\n",
      "True\n"
     ]
    }
   ],
   "source": [
    "class CTECH:\n",
    "    pass \n",
    "class CINTEL:\n",
    "    pass \n",
    "class NWC:\n",
    "    pass \n",
    "\n",
    "class DSBS:\n",
    "    pass \n",
    "\n",
    "student1 = CTECH()\n",
    "marks1 = CINTEL()\n",
    "stu=NWC()\n",
    "ma=DSBS()\n",
    "\n",
    "print(isinstance(student1, CTECH))\n",
    "print(isinstance(marks1, CTECH))\n",
    "print(isinstance(stu, CTECH))\n",
    "print(isinstance(ma, CTECH))\n",
    "\n",
    "print(isinstance(marks1, CINTEL)) \n",
    "print(isinstance(student1, CINTEL))\n",
    "print(isinstance(stu, CINTEL))\n",
    "print(isinstance(ma, CINTEL))\n",
    "\n",
    "print(\"\\nCheck whether the said classes are subclasses of the built-in object class or not.\")\n",
    "print(issubclass(CTECH, object))\n",
    "print(issubclass(CINTEL, object))\n",
    "print(issubclass(NWC, object))\n",
    "print(issubclass(DSBS, object))\n"
   ]
  },
  {
   "cell_type": "markdown",
   "metadata": {},
   "source": [
    "3. Write a program to print the names of the departments students by creating a Dept class. \n",
    "If no name is passed while creating an object of the Dept class, then the name should be \"SCO\", \n",
    "otherwise the name should be equal to the String value passed while creating the object of the Dept class."
   ]
  },
  {
   "cell_type": "code",
   "execution_count": 3,
   "metadata": {},
   "outputs": [
    {
     "name": "stdout",
     "output_type": "stream",
     "text": [
      "SCO\n",
      "CSE\n"
     ]
    }
   ],
   "source": [
    "class Dept:\n",
    "    def __init__(self, *args): \n",
    "        if len(args) == 1: \n",
    "            self.dept=args[0] \n",
    "\n",
    "        elif len(args) == 0: \n",
    "            self.dept=\"SCO\" \n",
    "    \n",
    "    def deptname(self):\n",
    "        print(self.dept)\n",
    "    \n",
    "\n",
    "d1=Dept()\n",
    "d1.deptname()\n",
    "\n",
    "d2=Dept(\"CSE\")\n",
    "d2.deptname()\n"
   ]
  },
  {
   "cell_type": "markdown",
   "metadata": {},
   "source": [
    "4. Create a class named 'Rectangle' with two data members- length and breadth \n",
    "and a function to calculate the area which is 'length*breadth'. \n",
    "The class has three constructors which are :\n",
    "1 - having no parameter - values of both length and breadth are assigned \n",
    "zero.\n",
    "2 - having two numbers as parameters - the two numbers are assigned as \n",
    "length and breadth respectively.\n",
    "3 - having one number as parameter - both length and breadth are \n",
    "assigned that number.\n",
    "Now, create objects of the 'Rectangle' class having none, one and two \n",
    "parameters and print their area"
   ]
  },
  {
   "cell_type": "code",
   "execution_count": 10,
   "metadata": {},
   "outputs": [
    {
     "name": "stdout",
     "output_type": "stream",
     "text": [
      "50\n",
      "100\n",
      "0\n"
     ]
    }
   ],
   "source": [
    "class rectangle: \n",
    "\n",
    " length=0  \n",
    " breadth=0 \n",
    "\n",
    " def __init__(self, *args): \n",
    "\n",
    "        if len(args) == 2: \n",
    "\n",
    "            self.length=args[0]; \n",
    "\n",
    "            self.breadth=args[1] \n",
    "\n",
    "        elif len(args) == 1: \n",
    "\n",
    "            self.length=args[0] \n",
    "\n",
    "            self.breadth=args[0] \n",
    "\n",
    "        else: \n",
    "\n",
    "            self.length=0 \n",
    "\n",
    "            self.breadth=0 \n",
    "\n",
    " def area(self): \n",
    "\n",
    "        return self.length*self.breadth; \n",
    "\n",
    "r1=rectangle(5,10) \n",
    "print(r1.area()) \n",
    "r2=rectangle(10) \n",
    "print(r2.area()) \n",
    "r3=rectangle() \n",
    "print(r3.area())\n"
   ]
  },
  {
   "cell_type": "markdown",
   "metadata": {},
   "source": [
    "5. Create a class named 'PrintDT' to print various numbers of different datatypes by creating \n",
    "different functions with the same name 'python_data’ having a parameter for each datatype. (example : tuple, list, string)"
   ]
  },
  {
   "cell_type": "code",
   "execution_count": 13,
   "metadata": {},
   "outputs": [
    {
     "name": "stdout",
     "output_type": "stream",
     "text": [
      "[1, 2, 3]\n",
      "('x', [8, 4, 6], 'Triangle')\n",
      "Jim\n"
     ]
    }
   ],
   "source": [
    "class PrintDT:\n",
    "    def py_data(self,list):\n",
    "        self.list=[]\n",
    "        print(self.list)\n",
    "        \n",
    "    def py_data(self,tuple):\n",
    "        self.tuple=()\n",
    "        print(tuple)\n",
    "        \n",
    "    def py_data(self,str):\n",
    "        self.str=''\n",
    "        print(str)\n",
    "        \n",
    "p=PrintDT()\n",
    "p.py_data([1,2,3])\n",
    "p.py_data(('x',[8,4,6],\"Triangle\"))\n",
    "p.py_data('Jim')\n"
   ]
  },
  {
   "cell_type": "markdown",
   "metadata": {},
   "source": [
    "6. A student from SRMIST has his/her money deposited Rs.15000, Rs.30000 and Rs. 40,000 in banks-CUB,\n",
    "HDFC and Indian Bank respectively. \n",
    "We have to print the money deposited by him/her in a particular bank.\n",
    "Create a class named 'Banks_SRMIST' with a function 'getBalance' which returns 0. \n",
    "Make its three subclasses named 'CUB', 'HDFC' and 'Indian_Bank' with a function with the same name 'getBalance' which \n",
    "returns the amount deposited in that particular bank. \n",
    "Call the function 'getBalance' by the object of each of the three bank"
   ]
  },
  {
   "cell_type": "code",
   "execution_count": 14,
   "metadata": {},
   "outputs": [
    {
     "name": "stdout",
     "output_type": "stream",
     "text": [
      "15000\n",
      "30000\n",
      "40000\n"
     ]
    }
   ],
   "source": [
    "class Banks_SRMIST:\n",
    "    def getBalance():\n",
    "        return 0\n",
    "class CUB(Banks_SRMIST):\n",
    "    \n",
    "    def getBalance(balance):\n",
    "         return balance\n",
    "class HDFC(Banks_SRMIST):\n",
    "    \n",
    "    def getBalance(balance):\n",
    "        return balance\n",
    "class Indian_Bank(Banks_SRMIST):\n",
    "    \n",
    "    def getBalance(balance):\n",
    "        return balance\n",
    "Banks_SRMIST()\n",
    "print(CUB.getBalance(15000))\n",
    "print(HDFC.getBalance(30000))\n",
    "print(Indian_Bank.getBalance(40000))\n"
   ]
  },
  {
   "cell_type": "markdown",
   "metadata": {},
   "source": [
    "7. Create a Time class and initialize it with hours and minutes.\n",
    "(A) Make a method addTime which should take two time object and add them. \n",
    "    E.g.- (2 hour and 50 min)+(1 hr and 20 min) is (4 hr and 10 min)\n",
    "(B) Make a method displayTime which should print the time.\n",
    "(C) Make a method DisplayMinute which should display the total minutes in the Time. E.g.- (1 hr 2 min) should display 62 minute."
   ]
  },
  {
   "cell_type": "code",
   "execution_count": 17,
   "metadata": {},
   "outputs": [
    {
     "name": "stdout",
     "output_type": "stream",
     "text": [
      "Time is 4 hours and 10 minutes.\n",
      "250\n"
     ]
    }
   ],
   "source": [
    "class Time():\n",
    "    def __init__(self, hours, mins):\n",
    "     self.hours = hours\n",
    "     self.mins = mins\n",
    "\n",
    "    def addTime(t1, t2):\n",
    "     t3 = Time(0,0)\n",
    "     if t1.mins+t2.mins > 60:\n",
    "      t3.hours = (t1.mins+t2.mins)//60\n",
    "     t3.hours = t3.hours+t1.hours+t2.hours\n",
    "     t3.mins = (t1.mins + t2.mins) % 60\n",
    "     return t3\n",
    "\n",
    "    def displayTime(self):\n",
    "     print (\"Time is\",self.hours,\"hours and\",self.mins,\"minutes.\")\n",
    "\n",
    "    def displayMinute(self):\n",
    "        print ((self.hours*60)+self.mins)\n",
    "\n",
    "a = Time(2,40)\n",
    "b = Time(1,30)\n",
    "c = Time.addTime(a,b)\n",
    "c.displayTime()\n",
    "c.displayMinute()\n"
   ]
  },
  {
   "cell_type": "markdown",
   "metadata": {},
   "source": [
    "8. Write a program to print the area and perimeter of a triangle having sides of 3, 4 and 5 units by \n",
    "creating a class named 'Triangle' with a function to print the area and perimeter."
   ]
  },
  {
   "cell_type": "code",
   "execution_count": 18,
   "metadata": {},
   "outputs": [
    {
     "name": "stdout",
     "output_type": "stream",
     "text": [
      "The perimeter of the triangle is : 15.00\n",
      "The area of the triangle is : 9.92\n"
     ]
    }
   ],
   "source": [
    "class Triangle:\n",
    "    def findPerimeter(self, s1, s2, s3):\n",
    "        return (s1 + s2 + s3)\n",
    "\n",
    "    def findArea(self, s1, s2, s3):\n",
    "        p = (s1 + s2 + s3)\n",
    "        s = p/2\n",
    "        return (s * (s-s1) * (s-s2)*(s-s3))**0.5\n",
    "\n",
    "s1 = float(input(\"Enter the first side of the triangle : \"))\n",
    "s2 = float(input(\"Enter the second side of the triangle : \"))\n",
    "s3 = float(input(\"Enter the third side of the triangle : \"))\n",
    "\n",
    "u = Triangle()\n",
    "\n",
    "print(\"The perimeter of the triangle is : {0:.2f}\".format(\n",
    "    u.findPerimeter(s1, s2, s3)))\n",
    "print(\"The area of the triangle is : {0:.2f}\".format(u.findArea(s1, s2, s3)))\n"
   ]
  }
 ],
 "metadata": {
  "interpreter": {
   "hash": "2be5faf79681da6f2a61fdfdd5405d65d042280f7fba6178067603e3a2925119"
  },
  "kernelspec": {
   "display_name": "Python 3.10.1 64-bit",
   "language": "python",
   "name": "python3"
  },
  "language_info": {
   "codemirror_mode": {
    "name": "ipython",
    "version": 3
   },
   "file_extension": ".py",
   "mimetype": "text/x-python",
   "name": "python",
   "nbconvert_exporter": "python",
   "pygments_lexer": "ipython3",
   "version": "3.10.1"
  },
  "orig_nbformat": 4
 },
 "nbformat": 4,
 "nbformat_minor": 2
}
