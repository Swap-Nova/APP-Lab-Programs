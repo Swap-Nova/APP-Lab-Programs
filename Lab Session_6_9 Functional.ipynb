{
 "cells": [
  {
   "cell_type": "markdown",
   "metadata": {},
   "source": [
    "#### Write a lambda function to convert measurements from meters to feet."
   ]
  },
  {
   "cell_type": "code",
   "execution_count": 10,
   "metadata": {},
   "outputs": [
    {
     "name": "stdout",
     "output_type": "stream",
     "text": [
      "Meters to feet conversion: 13.124\n"
     ]
    }
   ],
   "source": [
    "x=lambda a:a*3.281\n",
    "print(\"Meters to feet conversion:\",x(4))"
   ]
  },
  {
   "cell_type": "markdown",
   "metadata": {},
   "source": [
    "#### Find the difference in age between the oldest and youngest family members, and return their respective ages and the age difference."
   ]
  },
  {
   "cell_type": "code",
   "execution_count": 8,
   "metadata": {},
   "outputs": [
    {
     "name": "stdout",
     "output_type": "stream",
     "text": [
      "Age of youngest family member is:  15\n",
      "Age of oldest family member is:  30\n",
      "Age difference:  15\n"
     ]
    }
   ],
   "source": [
    "x=int(input(\"Enter the age of the youngest family member: \"))\n",
    "y=int(input(\"Enter the age of the oldest family member: \"))\n",
    "age=y-x\n",
    "\n",
    "print(\"Age of youngest family member is: \",x)\n",
    "print(\"Age of oldest family member is: \",y)\n",
    "print(\"Age difference: \",age)"
   ]
  },
  {
   "cell_type": "markdown",
   "metadata": {},
   "source": [
    "#### The given input is a string of multiple words with a single space between each of them. Abbreviate the name and return the name initials."
   ]
  },
  {
   "cell_type": "code",
   "execution_count": 1,
   "metadata": {},
   "outputs": [
    {
     "name": "stdout",
     "output_type": "stream",
     "text": [
      "S.Hawking\n"
     ]
    }
   ],
   "source": [
    "def name(s):\n",
    "    l=s.split()\n",
    "    new=\"\"\n",
    "\n",
    "    for i in range(len(l)-1):\n",
    "        s=l[i]\n",
    "\n",
    "        new+=(s[0].upper()+'.')\n",
    "    new +=l[-1].title()\n",
    "    return new\n",
    "\n",
    "s=\"Stephen Hawking\"\n",
    "print(name(s))"
   ]
  },
  {
   "cell_type": "markdown",
   "metadata": {},
   "source": [
    "#### If the given input is an array of numbers, return the sum of all the positives ones. If the array is empty or there aren't any positive numbers, return 0."
   ]
  },
  {
   "cell_type": "code",
   "execution_count": 8,
   "metadata": {},
   "outputs": [
    {
     "data": {
      "text/plain": [
       "0"
      ]
     },
     "execution_count": 8,
     "metadata": {},
     "output_type": "execute_result"
    }
   ],
   "source": [
    "def positive_sum(numbers):\n",
    "    positive_sum = 0\n",
    "    for n in numbers:\n",
    "        if n > 0:\n",
    "            positive_sum += n\n",
    "    return positive_sum\n",
    "positive_sum([1,-4,7,12])"
   ]
  }
 ],
 "metadata": {
  "interpreter": {
   "hash": "369f2c481f4da34e4445cda3fffd2e751bd1c4d706f27375911949ba6bb62e1c"
  },
  "kernelspec": {
   "display_name": "Python 3.10.1 64-bit",
   "language": "python",
   "name": "python3"
  },
  "language_info": {
   "codemirror_mode": {
    "name": "ipython",
    "version": 3
   },
   "file_extension": ".py",
   "mimetype": "text/x-python",
   "name": "python",
   "nbconvert_exporter": "python",
   "pygments_lexer": "ipython3",
   "version": "3.10.1"
  },
  "orig_nbformat": 4
 },
 "nbformat": 4,
 "nbformat_minor": 2
}
