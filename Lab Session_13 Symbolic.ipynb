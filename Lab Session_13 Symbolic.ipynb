{
 "cells": [
  {
   "cell_type": "markdown",
   "metadata": {},
   "source": [
    "##### Calculate sqrt (2) with 100 decimals"
   ]
  },
  {
   "cell_type": "code",
   "execution_count": null,
   "metadata": {},
   "outputs": [],
   "source": [
    "from sympy import * \n",
    "print(N(sqrt(2),100))"
   ]
  },
  {
   "cell_type": "markdown",
   "metadata": {},
   "source": [
    "##### Calculate (1/2+1/3) in rational arithmetic"
   ]
  },
  {
   "cell_type": "code",
   "execution_count": null,
   "metadata": {},
   "outputs": [],
   "source": [
    "import sympy as sym \n",
    "a = (sym.Rational(1, 2)+sym.Rational(1,3))\n",
    "print(sym.simplify(a))"
   ]
  },
  {
   "cell_type": "markdown",
   "metadata": {},
   "source": [
    "##### Calculate the expanded form of (x+y) ^ 6"
   ]
  },
  {
   "cell_type": "code",
   "execution_count": null,
   "metadata": {},
   "outputs": [],
   "source": [
    "import sympy as sym \n",
    "x = sym.Symbol('x') \n",
    "y = sym.Symbol('y')\n",
    "a = sym.expand((x+y)**6) \n",
    "print(a)"
   ]
  },
  {
   "cell_type": "markdown",
   "metadata": {},
   "source": [
    "##### Simplify the trigonometric expression sin (x) / cos (x)"
   ]
  },
  {
   "cell_type": "code",
   "execution_count": null,
   "metadata": {},
   "outputs": [],
   "source": [
    "from sympy import * \n",
    "x = symbols('x')\n",
    "a = (sin(x)/(cos(x)))\n",
    "s=trigsimp(a) \n",
    "print(format(s))"
   ]
  },
  {
   "cell_type": "markdown",
   "metadata": {},
   "source": [
    "##### Calculate sin x -xx^3n"
   ]
  },
  {
   "cell_type": "code",
   "execution_count": null,
   "metadata": {},
   "outputs": [],
   "source": [
    "from sympy import * \n",
    "x,n=symbols('x n') \n",
    "exp= sin(x)-x*x**3*n \n",
    "s=trigsimp(exp) \n",
    "print(s)"
   ]
  },
  {
   "cell_type": "markdown",
   "metadata": {},
   "source": [
    "##### Develop a python code for to carry out the operations on the given algebraic manipulation for the given expression a2 −ab+ab−b2=a2−b2 by using the symbolic programming paradigms principles"
   ]
  },
  {
   "cell_type": "code",
   "execution_count": null,
   "metadata": {},
   "outputs": [],
   "source": [
    "import sympy as sym \n",
    "a = sym.Symbol('a') \n",
    "b = sym.Symbol('b')\n",
    "lhs=sym.simplify(a**2-a*b+a*b-b**2) \n",
    "rhs=sym.simplify(a**2-b**2) \n",
    "print('lhs is ',lhs)\n",
    "print('rhs is ',rhs)"
   ]
  },
  {
   "cell_type": "markdown",
   "metadata": {},
   "source": [
    "##### Give the Symbolic program for the expression given below: a. ∬a 2 da"
   ]
  },
  {
   "cell_type": "code",
   "execution_count": null,
   "metadata": {},
   "outputs": [],
   "source": [
    "from sympy import * \n",
    "import functools \n",
    "import operator \n",
    "import random \n",
    "a=symbols('a') \n",
    "g=a**2 \n",
    "j=integrate(g,a)\n",
    "print('before integration a**2') \n",
    "print('after integration '+str(j))"
   ]
  },
  {
   "cell_type": "markdown",
   "metadata": {},
   "source": [
    "##### Give the Symbolic program for the expression given below: d. d/dx(sin(x))"
   ]
  },
  {
   "cell_type": "code",
   "execution_count": null,
   "metadata": {},
   "outputs": [],
   "source": [
    "from sympy import * \n",
    "import functools \n",
    "import operator \n",
    "import random \n",
    "a=symbols('a') \n",
    "x=symbols('x') \n",
    "g=sin(x)\n",
    "j=diff(g,a)\n",
    " \n",
    "print('before differentiation sin(x)') \n",
    "print('after differentiation '+str(j))"
   ]
  }
 ],
 "metadata": {
  "kernelspec": {
   "display_name": "Python 3.10.1 64-bit",
   "language": "python",
   "name": "python3"
  },
  "language_info": {
   "codemirror_mode": {
    "name": "ipython",
    "version": 3
   },
   "file_extension": ".py",
   "mimetype": "text/x-python",
   "name": "python",
   "nbconvert_exporter": "python",
   "pygments_lexer": "ipython3",
   "version": "3.10.1"
  },
  "orig_nbformat": 4,
  "vscode": {
   "interpreter": {
    "hash": "369f2c481f4da34e4445cda3fffd2e751bd1c4d706f27375911949ba6bb62e1c"
   }
  }
 },
 "nbformat": 4,
 "nbformat_minor": 2
}
