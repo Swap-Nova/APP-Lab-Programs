{
 "cells": [
  {
   "cell_type": "markdown",
   "metadata": {},
   "source": [
    "#                                             Set-6 Procedural Programming"
   ]
  },
  {
   "cell_type": "markdown",
   "metadata": {},
   "source": [
    "7. Given an array of names of candidates in an election. A candidate name in the array represents a vote case to the candidate.\n",
    "Print the name of candidates received Max vote. If there is tie, then print a lexicographically smaller name."
   ]
  },
  {
   "cell_type": "code",
   "execution_count": 4,
   "metadata": {},
   "outputs": [
    {
     "name": "stdout",
     "output_type": "stream",
     "text": [
      "john\n"
     ]
    }
   ],
   "source": [
    "from collections import Counter\n",
    "\n",
    "def winner(input):\n",
    "\tvotes = Counter(input)\n",
    "\tdict = {}\n",
    "\n",
    "\tfor value in votes.values():\n",
    "\t\tdict[value] = []\n",
    "\n",
    "\tfor (key,value) in votes.items():\n",
    "\t\tdict[value].append(key)\n",
    "\n",
    "\tmaxVote = sorted(dict.keys(),reverse=True)[0]\n",
    "\n",
    "\tif len(dict[maxVote])>1:\n",
    "\t\tprint (sorted(dict[maxVote])[0])\n",
    "\telse:\n",
    "\t\tprint (dict[maxVote][0])\n",
    "\n",
    "if __name__ == \"__main__\":\n",
    "\tinput =['john','johnny','jackie','johnny',\n",
    "\t\t\t'john','jackie','jamie','jamie',\n",
    "\t\t\t'john','johnny','jamie','johnny',\n",
    "\t\t\t'john']\n",
    "\twinner(input)\n"
   ]
  },
  {
   "cell_type": "markdown",
   "metadata": {},
   "source": [
    "8. A web application is developed for a bank. The first page gets the user id and password. Program to check the credentials of the user. \n",
    "The task is to enter 5 pairs of user id and password in a dictionary."
   ]
  },
  {
   "cell_type": "code",
   "execution_count": 1,
   "metadata": {},
   "outputs": [
    {
     "name": "stdout",
     "output_type": "stream",
     "text": [
      "Dear Seetha, you are welcome to our bank\n"
     ]
    }
   ],
   "source": [
    "crenditiales={'Ramesh': '12345', 'Seetha': 'abcde', 'Abhishek': 'pqrst', 'Ramya': '98765', 'Priya': 'xyzab'}\n",
    "u_name=input(\"Enter your username:\")\n",
    "pword=input(\"Enter your password:\")\n",
    "if (u_name,pword) in crenditiales.items() :\n",
    "    print(\"Dear {}, you are welcome to our bank\".format(u_name))\n",
    "else:\n",
    "    print('Your details does not match with our records')"
   ]
  },
  {
   "cell_type": "markdown",
   "metadata": {},
   "source": [
    "9. Develop an application called Quiz. Store 7 pairs of questions and answers in a dictionary. The task is to ask 5 questions."
   ]
  },
  {
   "cell_type": "code",
   "execution_count": 6,
   "metadata": {},
   "outputs": [
    {
     "name": "stdout",
     "output_type": "stream",
     "text": [
      "1.Who was the scienticst that discovered Gravity?\n",
      "correct\n",
      "2.How many days are there in an ordinary year?\n",
      "correct\n",
      "3. How many colors are there in a rainbow?\n",
      "correct\n",
      "4.Which animal is known as the ‘Ship of the Desert?\n",
      "Wrong\n",
      "5.The Atomic Number of Lithum is ?\n",
      "Wrong\n",
      "6.How many consonants are there in the English alphabet?\n",
      "Wrong\n",
      "7.What is the star sign of Aquaris reprented by?\n",
      "correct\n",
      "Total= 4\n"
     ]
    }
   ],
   "source": [
    "dic={\"Who was the scienticst that discovered Gravity?\":\"Newton\",\n",
    "\"How many days are there in an ordinary year?\":\"365\",\n",
    "\" How many colors are there in a rainbow?\":\"7\",\n",
    "\"Which animal is known as the Ship of the Desert?\":\"Camel\",\n",
    "\"The Atomic Number of Lithum is ?\":\"17\",\n",
    "\"How many consonants are there in the English alphabet?\":\"21\",\n",
    "\"What is the star sign of Aquaris reprented by?\":\"Tiger\"}\n",
    "count=0\n",
    "i=1\n",
    "for keys in dic.keys():\n",
    "    if count==5:\n",
    "        print(\"Total={}\".format(count))\n",
    "        break\n",
    "    else:\n",
    "        print(\"{}.{}\".format(i,keys))\n",
    "        i+=1\n",
    "        ans=input()\n",
    "        if ans==dic[keys]:\n",
    "            print(\"correct\")\n",
    "            count+=1\n",
    "        else:\n",
    "            print(\"Wrong\")\n",
    "print(\"Total=\",count)\n"
   ]
  }
 ],
 "metadata": {
  "interpreter": {
   "hash": "2be5faf79681da6f2a61fdfdd5405d65d042280f7fba6178067603e3a2925119"
  },
  "kernelspec": {
   "display_name": "Python 3.10.1 64-bit",
   "language": "python",
   "name": "python3"
  },
  "language_info": {
   "codemirror_mode": {
    "name": "ipython",
    "version": 3
   },
   "file_extension": ".py",
   "mimetype": "text/x-python",
   "name": "python",
   "nbconvert_exporter": "python",
   "pygments_lexer": "ipython3",
   "version": "3.10.1"
  },
  "orig_nbformat": 4
 },
 "nbformat": 4,
 "nbformat_minor": 2
}
