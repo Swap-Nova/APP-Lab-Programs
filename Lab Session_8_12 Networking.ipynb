{
 "cells": [
  {
   "cell_type": "markdown",
   "metadata": {},
   "source": [
    "##### (A) Create Simple Client Server Application using TCP Socket where server issue a command which will be executed at the client slide as a process of remote command execution"
   ]
  },
  {
   "cell_type": "markdown",
   "metadata": {},
   "source": [
    "##### Client.py"
   ]
  },
  {
   "cell_type": "code",
   "execution_count": null,
   "metadata": {},
   "outputs": [],
   "source": [
    "import socket # Import socket module\n",
    "import os\n",
    "s = socket.socket() # Create a socket object\n",
    "host = socket.gethostname() # Get local machine name\n",
    "port = 12345 # Reserve a port for your service.\n",
    "s.connect((host, port))\n",
    "cmd1= s.recv(1024)\n",
    "cmd1=str(cmd1,'utf-8')\n",
    "print(cmd1)\n",
    "os.system(cmd1)\n",
    "s.send(b'Command Executed')\n",
    "s.close() # Close the socket when done"
   ]
  },
  {
   "cell_type": "markdown",
   "metadata": {},
   "source": [
    "##### Server.py"
   ]
  },
  {
   "cell_type": "code",
   "execution_count": 2,
   "metadata": {},
   "outputs": [],
   "source": [
    "import socket # Import socket module\n",
    "s = socket.socket() # Create a socket object\n",
    "host = socket.gethostname() # Get local machine name\n",
    "port = 12345 # Reserve a port for your service\n",
    "s.bind((host, port)) # Bind to the por\n",
    "s.listen(5) # Now wait for client connection.\n",
    "while True:\n",
    " c,addr = s.accept() # Establish connection with client.\n",
    " print ('Got connection from', addr)\n",
    " c.send(b'id')\n",
    " print (c.recv(1024))\n",
    " c.close() # Close the connection"
   ]
  },
  {
   "cell_type": "markdown",
   "metadata": {},
   "source": [
    "##### (B) Write a Socket-based Python server program that responds to client messages as follows: When it receives a message from a client, it simply converts the message into all uppercase letters and sends back the same to the client. Write both client and server programs demonstrating this."
   ]
  },
  {
   "cell_type": "markdown",
   "metadata": {},
   "source": [
    "##### Client.py"
   ]
  },
  {
   "cell_type": "code",
   "execution_count": null,
   "metadata": {},
   "outputs": [],
   "source": [
    "import socket\n",
    "# Import socket module\n",
    "import os\n",
    "s = socket.socket()\n",
    "# Create a socket object\n",
    "host = socket.gethostname()\n",
    "# Get local machine name\n",
    "port =12345\n",
    "# Reserve a port for your service.\n",
    "s.connect((host, port))\n",
    "s.send(b\"Sending request to UpperCase this line\")\n",
    "res1 = s.recv(1024)\n",
    "print(res1)\n",
    "s.close()\n",
    "# Close the socket when don"
   ]
  },
  {
   "cell_type": "markdown",
   "metadata": {},
   "source": [
    "##### Server.py"
   ]
  },
  {
   "cell_type": "code",
   "execution_count": null,
   "metadata": {},
   "outputs": [],
   "source": [
    "import socket\n",
    "# Import socket module\n",
    "s = socket.socket()\n",
    "# Create a socket object\n",
    "host = socket.gethostname()\n",
    "# Get local machine name\n",
    "port =12345\n",
    "# Reserve a port for your service.\n",
    "s.bind((host, port))\n",
    "# Bind to the port\n",
    "print(f'Server started at{host}:{port}')\n",
    "s.listen(5)\n",
    "# Now wait for client connection.\n",
    "while True:\n",
    "    c, addr = s.accept()\n",
    "    # Establish connection with client.\n",
    "    print ('Got connection from', addr)\n",
    "    req1 = c.recv(1024)\n",
    "    req1 =str(req1,'utf-8')\n",
    "    str1 = req1.upper()\n",
    "    # print(str1)\n",
    "    str1 =bytes(str1,'UTF-8')\n",
    "    c.send(str1)\n",
    "    c.close()\n",
    "    # Close the connection"
   ]
  },
  {
   "cell_type": "markdown",
   "metadata": {},
   "source": [
    "##### (C) Write a ping-pong client and server application. When a client sends a ping message to the server, the server will respond with a pong message. Other messages sent by the client can be safely dropped by the server."
   ]
  },
  {
   "cell_type": "markdown",
   "metadata": {},
   "source": [
    "##### Client.py"
   ]
  },
  {
   "cell_type": "code",
   "execution_count": null,
   "metadata": {},
   "outputs": [],
   "source": [
    "#echo-client.py\n",
    "import socket\n",
    "# Import socket module\n",
    "import os\n",
    "s = socket.socket()\n",
    "# Create a socket object\n",
    "host = socket.gethostname()\n",
    "# Get local machine name\n",
    "port =12345\n",
    "# Reserve a port for your service.\n",
    "s.connect((host, port))\n",
    "s.send(b\"ping\")\n",
    "res1 = s.recv(1024)\n",
    "print(res1)\n",
    "s.close()\n",
    "# Close the socket when done"
   ]
  },
  {
   "cell_type": "markdown",
   "metadata": {},
   "source": [
    "##### Server.py"
   ]
  },
  {
   "cell_type": "code",
   "execution_count": null,
   "metadata": {},
   "outputs": [],
   "source": [
    "#echo-server.py\n",
    "# If port is in use try kill -9 $(lsof -t -i tcp:12345)\n",
    "import socket\n",
    "# Import socket module\n",
    "s = socket.socket()\n",
    "# Create a socket object\n",
    "host = socket.gethostname()\n",
    "# Get local machine name\n",
    "port =12345\n",
    "# Reserve a port for your service.\n",
    "s.bind((host, port))\n",
    "# Bind to the port\n",
    "print(f'Server started at{host}:{port}')\n",
    "s.listen(5)\n",
    "# Now wait for client connection.\n",
    "while True:\n",
    "    c, addr = s.accept() \n",
    "    # Establish connection with client.\n",
    "    print ('Got connection from', addr)\n",
    "    req1 = c.recv(1024)\n",
    "    req1 =str(req1,'utf-8')\n",
    "    if(req1==\"ping\"):\n",
    "        c.send(b'pong')\n",
    "    # print(str1)\n",
    "    c.close()\n",
    "    # Close the connection\n"
   ]
  }
 ],
 "metadata": {
  "kernelspec": {
   "display_name": "Python 3.10.1 64-bit",
   "language": "python",
   "name": "python3"
  },
  "language_info": {
   "codemirror_mode": {
    "name": "ipython",
    "version": 3
   },
   "file_extension": ".py",
   "mimetype": "text/x-python",
   "name": "python",
   "nbconvert_exporter": "python",
   "pygments_lexer": "ipython3",
   "version": "3.10.1"
  },
  "orig_nbformat": 4,
  "vscode": {
   "interpreter": {
    "hash": "369f2c481f4da34e4445cda3fffd2e751bd1c4d706f27375911949ba6bb62e1c"
   }
  }
 },
 "nbformat": 4,
 "nbformat_minor": 2
}
