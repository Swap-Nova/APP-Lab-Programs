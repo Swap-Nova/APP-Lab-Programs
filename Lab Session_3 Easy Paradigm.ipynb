{
 "cells": [
  {
   "cell_type": "markdown",
   "metadata": {},
   "source": [
    "1. Given a string, find its mirroring image.\n"
   ]
  },
  {
   "cell_type": "code",
   "execution_count": 1,
   "metadata": {},
   "outputs": [
    {
     "name": "stdout",
     "output_type": "stream",
     "text": [
      "nohtyp\n"
     ]
    }
   ],
   "source": [
    "def mirror(a):\n",
    "    rev=a[::-1]\n",
    "    print(rev)\n",
    "    \n",
    "s1=input(\"Enter a word\")\n",
    "mirror(s1)"
   ]
  },
  {
   "cell_type": "markdown",
   "metadata": {},
   "source": [
    "2. Check if two strings are Rotationally Equivalent"
   ]
  },
  {
   "cell_type": "code",
   "execution_count": 3,
   "metadata": {},
   "outputs": [
    {
     "name": "stdout",
     "output_type": "stream",
     "text": [
      "False\n"
     ]
    }
   ],
   "source": [
    "def mirror(a,b):\n",
    "    rev=a[::-1]\n",
    "\n",
    "    if(b==rev):\n",
    "        print(\"True\")\n",
    "    else:\n",
    "        print(\"False\")\n",
    "\n",
    "s1=input(\"Enter the first word\")\n",
    "s2=input(\"Enter the second word\")\n",
    "mirror(s1,s2)"
   ]
  },
  {
   "cell_type": "markdown",
   "metadata": {},
   "source": [
    "3. Given a number n, the task is to generate a random binary string of length n."
   ]
  },
  {
   "cell_type": "code",
   "execution_count": 4,
   "metadata": {},
   "outputs": [
    {
     "name": "stdout",
     "output_type": "stream",
     "text": [
      "Length of the random binary string is: 11111000\n"
     ]
    }
   ],
   "source": [
    "import random\n",
    "def rand_key(p):\n",
    "    key1=\"\"\n",
    "    for i in range(p):\n",
    "        temp=str(random.randint(0,1))\n",
    "        key1+=temp\n",
    "    return(key1)\n",
    "\n",
    "n=8\n",
    "str1=rand_key(n)\n",
    "print(\"Length of the random binary string is:\",str1)"
   ]
  },
  {
   "cell_type": "markdown",
   "metadata": {},
   "source": [
    "4. Given a string, remove punctuation and any special characters."
   ]
  },
  {
   "cell_type": "code",
   "execution_count": 8,
   "metadata": {},
   "outputs": [
    {
     "name": "stdout",
     "output_type": "stream",
     "text": [
      "The original string is:The atomic number of !Sodium ;is: 18\n",
      "The string after punctuation filter is: The atomic number of Sodium is 18\n"
     ]
    }
   ],
   "source": [
    "test_str=\"The atomic number of !Sodium ;is: 18\"\n",
    "print(\"The original string is:\" +test_str)\n",
    "\n",
    "punc='''!-[]{};:'\"\\,<>./?@#$%^&*_~'''\n",
    "for ele in test_str:\n",
    "    if ele in punc:\n",
    "        test_str=test_str.replace(ele,\"\")\n",
    "print(\"The string after punctuation filter is: \" +test_str)\n"
   ]
  },
  {
   "cell_type": "markdown",
   "metadata": {},
   "source": [
    "5. To compute element-wise sum of tuples"
   ]
  },
  {
   "cell_type": "code",
   "execution_count": 10,
   "metadata": {},
   "outputs": [
    {
     "name": "stdout",
     "output_type": "stream",
     "text": [
      "Original List:\n",
      "(11, 2, 3, 14)\n",
      "(13, 5, 22, 10)\n",
      "(12, 2, 3, 10)\n",
      "\n",
      "Element-wise sum of the said tuples:\n",
      "(36, 9, 28, 34)\n"
     ]
    }
   ],
   "source": [
    "x=(11,2,3,14)\n",
    "y=(13,5,22,10)\n",
    "z=(12,2,3,10)\n",
    "\n",
    "print(\"Original List:\")\n",
    "print(x)\n",
    "print(y)\n",
    "print(z)\n",
    "\n",
    "print(\"\\nElement-wise sum of the said tuples:\")\n",
    "result=tuple(map(sum,zip(x,y,z)))\n",
    "print(result)"
   ]
  },
  {
   "cell_type": "markdown",
   "metadata": {},
   "source": [
    "6. To remove empty tuple(s) from a list of tuples"
   ]
  },
  {
   "cell_type": "code",
   "execution_count": 11,
   "metadata": {},
   "outputs": [
    {
     "name": "stdout",
     "output_type": "stream",
     "text": [
      "[('',), ('a', 'b'), ('a', 'b', 'c'), 'd']\n"
     ]
    }
   ],
   "source": [
    "list=[(),(),('',),('a','b'),('a','b','c'),('d')]\n",
    "list=[t for t in list if t]\n",
    "print(list)"
   ]
  },
  {
   "cell_type": "markdown",
   "metadata": {},
   "source": [
    "7. Write a Python program to count the elements in a list until an element is a tuple"
   ]
  },
  {
   "cell_type": "code",
   "execution_count": 12,
   "metadata": {},
   "outputs": [
    {
     "name": "stdout",
     "output_type": "stream",
     "text": [
      "3\n"
     ]
    }
   ],
   "source": [
    "num=[10,20,30,(10,20),40]\n",
    "count=0\n",
    "for i in num:\n",
    "    if isinstance(i,tuple):\n",
    "        break\n",
    "    count+=1\n",
    "print(count)"
   ]
  },
  {
   "cell_type": "markdown",
   "metadata": {},
   "source": [
    "8. Write a Python program to Convert Tuple Matrix to Tuple List"
   ]
  },
  {
   "cell_type": "code",
   "execution_count": 2,
   "metadata": {},
   "outputs": [
    {
     "name": "stdout",
     "output_type": "stream",
     "text": [
      "The original list is: [[(5, 6), (17, 8)], [(1, 3), (16, 17)], [(0, 4), (10, 11)]]\n",
      "The converted tuple is: [(5, 17, 1, 16, 0, 10), (6, 8, 3, 17, 4, 11)]\n"
     ]
    }
   ],
   "source": [
    "test_list=[[(5,6),(17,8)],[(1,3),(16,17)],[(0,4),(10,11)]]\n",
    "print(\"The original list is: \" +str(test_list))\n",
    "temp=[ele for sub in test_list for ele in sub]\n",
    "res=list(zip(*temp))\n",
    "print(\"The converted tuple is: \" +str(res))"
   ]
  },
  {
   "cell_type": "markdown",
   "metadata": {},
   "source": [
    "9. Write a Python program to count unique values in the list."
   ]
  },
  {
   "cell_type": "code",
   "execution_count": 3,
   "metadata": {},
   "outputs": [
    {
     "name": "stdout",
     "output_type": "stream",
     "text": [
      "Number of unique items are:  4\n"
     ]
    }
   ],
   "source": [
    "input_list=[1,3,3,2,4,4]\n",
    "l1=[]\n",
    "count=0\n",
    "for item in input_list:\n",
    "    if item not in l1:\n",
    "        count+=1\n",
    "        l1.append(item)\n",
    "print(\"Number of unique items are: \",count)"
   ]
  },
  {
   "cell_type": "markdown",
   "metadata": {},
   "source": [
    "10. Python Program to print all Possible Combinations from the three Digits."
   ]
  },
  {
   "cell_type": "code",
   "execution_count": 4,
   "metadata": {},
   "outputs": [
    {
     "name": "stdout",
     "output_type": "stream",
     "text": [
      "1 2 3\n",
      "1 3 2\n",
      "2 1 3\n",
      "2 3 1\n",
      "3 1 2\n",
      "3 2 1\n"
     ]
    }
   ],
   "source": [
    "def comb(L):\n",
    "    for i in range(3):\n",
    "        for j in range(3):\n",
    "            for k in range(3):\n",
    "                if(i!=j and j!=k and i!=k):\n",
    "                    print(L[i],L[j],L[k])\n",
    "\n",
    "comb([1,2,3])"
   ]
  },
  {
   "cell_type": "markdown",
   "metadata": {},
   "source": [
    " 11. Write a Python program (using function) to print the even numbers from a given list."
   ]
  },
  {
   "cell_type": "code",
   "execution_count": 7,
   "metadata": {},
   "outputs": [
    {
     "name": "stdout",
     "output_type": "stream",
     "text": [
      "[2, 4, 6, 8]\n"
     ]
    }
   ],
   "source": [
    "def is_even_num(l):\n",
    "    enum=[]\n",
    "    for i in l:\n",
    "        if i%2==0:\n",
    "            enum.append(i)\n",
    "    return enum\n",
    "print(is_even_num([1,2,3,4,5,6,7,8,9]))"
   ]
  },
  {
   "cell_type": "markdown",
   "metadata": {},
   "source": [
    "12. Write a Python function (using function) that checks whether a passed string is palindrome or not."
   ]
  },
  {
   "cell_type": "code",
   "execution_count": 8,
   "metadata": {},
   "outputs": [
    {
     "name": "stdout",
     "output_type": "stream",
     "text": [
      "False\n"
     ]
    }
   ],
   "source": [
    "def isPalindrome(string):\n",
    "    left_pos=0\n",
    "    right_pos=len(string)-1\n",
    "    \n",
    "    while right_pos>=left_pos:\n",
    "        if not string[left_pos]==string[right_pos]:\n",
    "            return False\n",
    "        left_pos +=1\n",
    "        right_pos -=1\n",
    "    return True\n",
    "print(isPalindrome('str'))"
   ]
  },
  {
   "cell_type": "markdown",
   "metadata": {},
   "source": [
    "13. Write a Python function (using function) that checks whether a given number is prime or not"
   ]
  },
  {
   "cell_type": "code",
   "execution_count": 12,
   "metadata": {},
   "outputs": [
    {
     "name": "stdout",
     "output_type": "stream",
     "text": [
      "False\n"
     ]
    }
   ],
   "source": [
    "def test_prime(i):\n",
    "    if(i==1):\n",
    "        return False\n",
    "    elif(i==2):\n",
    "        return True\n",
    "    else:\n",
    "        for x in range(2,i):\n",
    "            if(i%x==0):\n",
    "                return False\n",
    "        return True\n",
    "print(test_prime(6))"
   ]
  }
 ],
 "metadata": {
  "interpreter": {
   "hash": "2be5faf79681da6f2a61fdfdd5405d65d042280f7fba6178067603e3a2925119"
  },
  "kernelspec": {
   "display_name": "Python 3.10.1 64-bit",
   "language": "python",
   "name": "python3"
  },
  "language_info": {
   "codemirror_mode": {
    "name": "ipython",
    "version": 3
   },
   "file_extension": ".py",
   "mimetype": "text/x-python",
   "name": "python",
   "nbconvert_exporter": "python",
   "pygments_lexer": "ipython3",
   "version": "3.10.1"
  },
  "orig_nbformat": 4
 },
 "nbformat": 4,
 "nbformat_minor": 2
}
