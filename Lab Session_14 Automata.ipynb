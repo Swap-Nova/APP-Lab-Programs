{
 "cells": [
  {
   "cell_type": "markdown",
   "metadata": {},
   "source": [
    "##### Write a automata code for the Language that accepts all and only those strings that contain 001 "
   ]
  },
  {
   "cell_type": "code",
   "execution_count": null,
   "metadata": {},
   "outputs": [],
   "source": [
    "from automata.fa.dfa \n",
    "import DFA dfa = DFA(\n",
    "states={'q0', 'q1', 'q2', 'q3'}, input_symbols={'0', '1'},\n",
    "transitions={\n",
    "'q0': {'0': 'q1', '1': 'q0'},\n",
    "'q1': {'0': 'q2', '1': 'q0'},\n",
    "'q2': {'0': 'q2', '1': 'q3'},\n",
    "'q3': {'0': 'q3', '1': 'q3'}\n",
    "},\n",
    "initial_state='q0', final_states={'q3'}\n",
    ")\n",
    "for i in range(1,4):\n",
    "    num = input(\"Enter the string :\") \n",
    "    if(dfa.accepts_input(num)):\n",
    "        print(\"Accepted\")   \n",
    "    else:\n",
    "        print(\"Rejected\")"
   ]
  },
  {
   "cell_type": "markdown",
   "metadata": {},
   "source": [
    "##### Write a automata code for L(M) ={ w | w has an even number of 1s} \n"
   ]
  },
  {
   "cell_type": "code",
   "execution_count": null,
   "metadata": {},
   "outputs": [],
   "source": [
    "from automata.fa.dfa \n",
    "import DFA dfa = DFA(\n",
    "states={'q0', 'q1', 'q2'},\n",
    "input_symbols={'0', '1'}, transitions={\n",
    "'q0': {'0': 'q0', '1': 'q1'},\n",
    "'q1': {'0': 'q1', '1': 'q2'},\n",
    "'q2': {'0': 'q2', '1': 'q1'}\n",
    "},\n",
    "initial_state='q0', final_states={'q2'}\n",
    ")\n",
    "for i in range(1,4):\n",
    " num = input(\"Enter the string :\") \n",
    " if(dfa.accepts_input(num)):\n",
    "    print(\"Accepted\") \n",
    " else:\n",
    "    print(\"Rejected\")"
   ]
  },
  {
   "cell_type": "markdown",
   "metadata": {},
   "source": [
    "##### Write a automata code for L(M) ={0,1}* "
   ]
  },
  {
   "cell_type": "code",
   "execution_count": null,
   "metadata": {},
   "outputs": [],
   "source": [
    "from automata.fa.dfa \n",
    "import DFA dfa = DFA(\n",
    "states={'q0'}, input_symbols={'0', '1'},\n",
    "transitions={\n",
    "'q0': {'0': 'q0', '1': 'q0'}\n",
    "},\n",
    "initial_state='q0', final_states={'q0'}\n",
    ")\n",
    "for i in range(1,8):\n",
    " num = input(\"Enter the string :\") \n",
    " if(dfa.accepts_input(num)):\n",
    "    print(\"Accepted\")\n",
    " else:\n",
    "    print(\"Rejected\")"
   ]
  },
  {
   "cell_type": "markdown",
   "metadata": {},
   "source": [
    "##### Σ * -- accepts all combinations of ‘1’ and ‘0’ including nullstring: "
   ]
  },
  {
   "cell_type": "code",
   "execution_count": null,
   "metadata": {},
   "outputs": [],
   "source": [
    "from automata.fa.dfa import DFA \n",
    "# DFA which does not accept any input\n",
    " \n",
    "dfa = DFA(\n",
    "states={'q0'}, input_symbols={'0', '1'}, transitions={\n",
    "'q0': {'0': 'q0', '1': 'q0'}\n",
    "},\n",
    "initial_state='q0 ',\n",
    "final_states={'q0 '}\n",
    ")\n",
    "for i in range(1,8):\n",
    "    num = input(\"Enter the string:\")\n",
    "    if(dfa.accepts_input(num)): \n",
    "        print(\"Accepted\") \n",
    "    else: \n",
    "        print(\"Rejected\")"
   ]
  },
  {
   "cell_type": "markdown",
   "metadata": {},
   "source": [
    "##### Write a automata code for L(M)=a + aa*b. "
   ]
  },
  {
   "cell_type": "code",
   "execution_count": null,
   "metadata": {},
   "outputs": [],
   "source": [
    "from automata.fa.dfa import DFA dfa = DFA(\n",
    "states={'q0', 'q1', 'q2','q3','q4','q5'}, input_symbols={'a', 'b'},\n",
    "transitions={\n",
    "'q0': {'a': 'q1', 'b': 'q5'},\n",
    "'q1': {'a': 'q2', 'b': 'q5'},\n",
    "'q2': {'a': 'q3', 'b': 'q4'},\n",
    "'q3': {'a': 'q2', 'b': 'q5'},\n",
    "'q4': {'a': 'q5', 'b': 'q5'},\n",
    "'q5': {'a': 'q5', 'b': 'q5'}\n",
    "},\n",
    "initial_state='q0', final_states={'q1','q4'}\n",
    ")\n",
    "for i in range(1,6):\n",
    "    num = input(\"Enter the string :\") \n",
    "    if(dfa.accepts_input(num)):\n",
    "        print(\"Accepted\")\n",
    "    else:\n",
    "        print(\"Rejected\")"
   ]
  }
 ],
 "metadata": {
  "language_info": {
   "name": "python"
  },
  "orig_nbformat": 4
 },
 "nbformat": 4,
 "nbformat_minor": 2
}
