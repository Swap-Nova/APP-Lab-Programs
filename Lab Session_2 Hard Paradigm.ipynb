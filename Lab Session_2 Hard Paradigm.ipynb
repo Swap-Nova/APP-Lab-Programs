{
 "cells": [
  {
   "cell_type": "code",
   "execution_count": 13,
   "metadata": {},
   "outputs": [
    {
     "name": "stdout",
     "output_type": "stream",
     "text": [
      "It is a pythagorean triplet\n"
     ]
    }
   ],
   "source": [
    "#Question-1 Write a series of Python statements that will read three numbers into variables named a, b and c and \n",
    "# then print a message saying whether or not they are a Pythagorean triple. \n",
    "\n",
    "#Forms a right angled triangle or not\n",
    "\n",
    "a=int(input(\"Enter first number:\"))\n",
    "b=int(input(\"Enter second number:\"))\n",
    "c=int(input(\"Enter third number:\"))\n",
    "if((a*a+b*b==c*c) | (a*a+c*c==b*b) | (b*b+c*c==a*a)):\n",
    "        print(\"It is a pythagorean triplet\")\n",
    "else:\n",
    "        print(\"It is not a pythagorean triplet\")"
   ]
  },
  {
   "cell_type": "code",
   "execution_count": 3,
   "metadata": {},
   "outputs": [
    {
     "name": "stdout",
     "output_type": "stream",
     "text": [
      "3 4 5\n",
      "8 6 10\n",
      "5 12 13\n",
      "15 8 17\n",
      "12 16 20\n"
     ]
    }
   ],
   "source": [
    "#Generate Pythagorean triplets\n",
    "def pythagoreanTriplets(limits) :\n",
    "\tc, m = 0, 2\n",
    "\n",
    "\twhile c < limits :\n",
    "\t\t\n",
    "\t\tfor n in range(1, m) :\n",
    "\t\t\ta = m * m - n * n\n",
    "\t\t\tb = 2 * m * n\n",
    "\t\t\tc = m * m + n * n\n",
    "\n",
    "\t\t\tif c > limits :\n",
    "\t\t\t\tbreak\n",
    "\n",
    "\t\t\tprint(a, b, c)\n",
    "\n",
    "\t\tm = m + 1\n",
    "if __name__ == '__main__' :\n",
    "\t\n",
    "\tlimit = 20\n",
    "\tpythagoreanTriplets(limit)"
   ]
  },
  {
   "cell_type": "code",
   "execution_count": 1,
   "metadata": {},
   "outputs": [
    {
     "name": "stdout",
     "output_type": "stream",
     "text": [
      "The number of letters in the word are 7\n",
      "Percentage of vowels: 28.57\n"
     ]
    }
   ],
   "source": [
    "#QUestion-4. Write a program that reads a word, and prints the number of letters in the word, the number of vowels in the word, and the percentage of vowels.\n",
    "#  Enter a word: sequoia Letters: 7 Vowels: 5 Percentage of vowels: 71.42 \n",
    "\n",
    "word=input(\"Enter a word \")\n",
    "word_length=len(word)\n",
    "print(\"The number of letters in the word are {}\".format(word_length))\n",
    "vowel=0\n",
    "\n",
    "for i in word:\n",
    "  if(i == 'a' or i=='e' or i=='i' or i=='o' or i=='u'):\n",
    "    vowel+=1\n",
    "\n",
    "print(\"The Percentage of vowels: {:.2f}\".format((vowel*100)/word_length))"
   ]
  },
  {
   "cell_type": "code",
   "execution_count": 3,
   "metadata": {},
   "outputs": [
    {
     "name": "stdout",
     "output_type": "stream",
     "text": [
      "1 \t 1 \t 1\n",
      "2 \t 4 \t 8\n",
      "3 \t 9 \t 27\n",
      "4 \t 16 \t 64\n",
      "5 \t 25 \t 125\n",
      "6 \t 36 \t 216\n",
      "7 \t 49 \t 343\n",
      "8 \t 64 \t 512\n",
      "9 \t 81 \t 729\n",
      "10 \t 100 \t 1000\n"
     ]
    }
   ],
   "source": [
    "#3. Using a for loop, print a table of powers of x, where x ranges from 1 to 10.\n",
    "for x in range(1,11):\n",
    "    print(x,'\\t',x**2,'\\t',x**3)"
   ]
  }
 ],
 "metadata": {
  "interpreter": {
   "hash": "85aa4e3860eb4c3d02516310ce7f1829d5a79fbdb325a1577fafe3f468751b9b"
  },
  "kernelspec": {
   "display_name": "Python 3.7.6 64-bit",
   "language": "python",
   "name": "python3"
  },
  "language_info": {
   "codemirror_mode": {
    "name": "ipython",
    "version": 3
   },
   "file_extension": ".py",
   "mimetype": "text/x-python",
   "name": "python",
   "nbconvert_exporter": "python",
   "pygments_lexer": "ipython3",
   "version": "3.7.6"
  },
  "orig_nbformat": 4
 },
 "nbformat": 4,
 "nbformat_minor": 2
}
